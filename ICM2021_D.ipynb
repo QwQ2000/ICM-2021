{
 "cells": [
  {
   "cell_type": "markdown",
   "metadata": {},
   "source": [
    "# Task 1 # "
   ]
  },
  {
   "cell_type": "code",
   "execution_count": 1,
   "metadata": {},
   "outputs": [],
   "source": [
    "import pandas as pd\n",
    "inf_data = pd.read_csv('/home/qwq/2021_ICM_Problem_D_Data/influence_data.csv')"
   ]
  },
  {
   "cell_type": "code",
   "execution_count": 2,
   "metadata": {},
   "outputs": [
    {
     "name": "stdout",
     "output_type": "stream",
     "text": [
      "Number of nodes:\n",
      "5603\n"
     ]
    }
   ],
   "source": [
    "s1 = set(inf_data['influencer_id'].drop_duplicates().reset_index(drop = True))\n",
    "s2 = inf_data['follower_id'].drop_duplicates().reset_index(drop = True)\n",
    "ids = list(s1.union(s2))\n",
    "n = len(ids)\n",
    "id2vid,vid2id = dict(),dict()\n",
    "for i in range(n):\n",
    "    id2vid[ids[i]] = i\n",
    "    vid2id[i] = ids[i]\n",
    "print('Number of nodes:')\n",
    "print(n)"
   ]
  },
  {
   "cell_type": "code",
   "execution_count": 3,
   "metadata": {},
   "outputs": [
    {
     "name": "stdout",
     "output_type": "stream",
     "text": [
      "Not multigraph:\n",
      "True\n"
     ]
    }
   ],
   "source": [
    "edges = []\n",
    "head = [[] for i in range(n)]\n",
    "    \n",
    "for idx,row in inf_data.iterrows():\n",
    "    u,v = id2vid[row['influencer_id']],id2vid[row['follower_id']]\n",
    "    edges.append((u,v))\n",
    "    head[u].append(edges[len(edges) - 1])\n",
    "\n",
    "print('Not multigraph:')\n",
    "print(len(edges) == len(set(edges)))"
   ]
  },
  {
   "cell_type": "code",
   "execution_count": 4,
   "metadata": {},
   "outputs": [
    {
     "name": "stdout",
     "output_type": "stream",
     "text": [
      "Number of edges:\n",
      "42770\n"
     ]
    }
   ],
   "source": [
    "print('Number of edges:')\n",
    "print(len(edges))"
   ]
  },
  {
   "cell_type": "code",
   "execution_count": 5,
   "metadata": {},
   "outputs": [
    {
     "name": "stdout",
     "output_type": "stream",
     "text": [
      "Has circle:\n",
      "False\n"
     ]
    }
   ],
   "source": [
    "from queue import Queue\n",
    "def has_circle():\n",
    "    in_d = [0 for i in range(n)]\n",
    "    calculated = [0 for i in range(n)]\n",
    "    for edge in edges:\n",
    "        in_d[v] += 1\n",
    "    q = Queue()\n",
    "    cnt = 1\n",
    "    while 1:\n",
    "        more_nodes = 0\n",
    "        for i in range(n):\n",
    "            if in_d[i] == 0 and not calculated[i]:\n",
    "                more_nodes = 1\n",
    "                calculated[i] = 1\n",
    "                q.put(i)\n",
    "        if not more_nodes:\n",
    "            break\n",
    "        while not q.empty():\n",
    "            x = q.get()\n",
    "            cnt += 1\n",
    "            for edge in head[x]:\n",
    "                in_d[edge[1]] -= 1\n",
    "    return cnt != n\n",
    "\n",
    "print('Has circle:')\n",
    "print(has_circle())"
   ]
  },
  {
   "cell_type": "code",
   "execution_count": 6,
   "metadata": {},
   "outputs": [],
   "source": [
    "import numpy as np\n",
    "\n",
    "def calculate_influence(gamma = 0.95):\n",
    "    in_d,out_d = [0 for i in range(n)],[0 for i in range(n)]\n",
    "    for edge in edges:\n",
    "        in_d[edge[1]] += 1\n",
    "        out_d[edge[0]] += 1\n",
    "    inf = [0 if out_d[i] == 0 else -1 for i in range(n)]\n",
    "    def dfs(x):\n",
    "        if inf[x] != -1:\n",
    "            return\n",
    "        inf[x] = 0\n",
    "        for edge in head[x]:\n",
    "            dfs(edge[1])\n",
    "            inf[x] += inf[edge[1]] / in_d[edge[1]]\n",
    "        inf[x] = gamma * inf[x] + out_d[x]\n",
    "        \n",
    "    for u in range(n):\n",
    "        if in_d[u] == 0:\n",
    "            dfs(u)\n",
    "    return inf\n",
    "\n",
    "all_inf = calculate_influence()"
   ]
  },
  {
   "cell_type": "code",
   "execution_count": 7,
   "metadata": {
    "scrolled": true
   },
   "outputs": [],
   "source": [
    "start = [0 for i in range(n)]\n",
    "for idx,row in inf_data.iterrows():\n",
    "    start[id2vid[row['influencer_id']]] = row['influencer_active_start']\n",
    "    start[id2vid[row['follower_id']]] = row['follower_active_start']"
   ]
  },
  {
   "cell_type": "code",
   "execution_count": 8,
   "metadata": {},
   "outputs": [
    {
     "name": "stdout",
     "output_type": "stream",
     "text": [
      "Correlation coefficient between influence value and active start:\n",
      "-0.25287147950809225\n"
     ]
    }
   ],
   "source": [
    "print('Correlation coefficient between influence value and active start:')\n",
    "print(np.corrcoef(np.array(start),np.array(all_inf))[0][1])"
   ]
  },
  {
   "cell_type": "code",
   "execution_count": 10,
   "metadata": {},
   "outputs": [
    {
     "data": {
      "application/vnd.jupyter.widget-view+json": {
       "model_id": "6f7aa9da70694ffcb26fa613e42c701a",
       "version_major": 2,
       "version_minor": 0
      },
      "text/plain": [
       "HBox(children=(FloatProgress(value=0.0, max=5603.0), HTML(value='')))"
      ]
     },
     "metadata": {},
     "output_type": "display_data"
    },
    {
     "name": "stdout",
     "output_type": "stream",
     "text": [
      "\n"
     ]
    }
   ],
   "source": [
    "from tqdm.notebook import tqdm\n",
    "\n",
    "sp = [[0 if j == i else float(\"inf\") for j in range(n)] for i in range(n)]\n",
    "def queue_bellmanford(s):\n",
    "    inq = [0 for i in range(n)]\n",
    "    inq[s] = 1\n",
    "    q = Queue()\n",
    "    q.put(s)\n",
    "    while not q.empty():\n",
    "        x = q.get()\n",
    "        inq[x] = 0\n",
    "        for edge in head[x]:\n",
    "            v = edge[1]\n",
    "            if sp[s][v] > sp[s][x] + 1:\n",
    "                sp[s][v] = sp[s][x] + 1\n",
    "                if not inq[v]:\n",
    "                    inq[v] = 1\n",
    "                    q.put(v)\n",
    "\n",
    "for i in tqdm(range(n)):\n",
    "    queue_bellmanford(i)\n",
    "    "
   ]
  },
  {
   "cell_type": "code",
   "execution_count": 237,
   "metadata": {},
   "outputs": [],
   "source": [
    "in_d = [0 for i in range(n)]\n",
    "for edge in edges:\n",
    "    in_d[edge[1]] += 1\n",
    "        \n",
    "def influence_2(u,v,gamma = 0.95):\n",
    "    if sp[u][v] == float(\"inf\") or u == v:\n",
    "        return 0\n",
    "    elif (u,v) in edges:\n",
    "        return gamma * all_inf[v] / in_d[v] + 1\n",
    "    else:\n",
    "        return gamma ** sp[u][v] * (all_inf[v] / in_d[v])"
   ]
  },
  {
   "cell_type": "code",
   "execution_count": 11,
   "metadata": {},
   "outputs": [
    {
     "name": "stdout",
     "output_type": "stream",
     "text": [
      "Selected artist ID:\n",
      "393257\n",
      "Selected artist name:\n",
      "Newsboys\n",
      "All nodes in subnet:\n",
      "[7, 404, 3397, 3304, 1247, 4042, 1897, 2795]\n"
     ]
    },
    {
     "data": {
      "text/plain": [
       "'output-graph.gv.png'"
      ]
     },
     "execution_count": 11,
     "metadata": {},
     "output_type": "execute_result"
    }
   ],
   "source": [
    "def get_subnet(u,cnt,edges,head):\n",
    "    n = len(head)\n",
    "    vis = [0 for i in range(n)]\n",
    "    head_r = [[] for i in range(n)]\n",
    "    edges_r = []\n",
    "    selected = []\n",
    "    def bfs(cnt):\n",
    "        q = Queue()\n",
    "        vis[u] = 1\n",
    "        q.put(u)\n",
    "        while not q.empty() and cnt:\n",
    "            x = q.get()\n",
    "            vis[x] = 1\n",
    "            selected.append(x)\n",
    "            cnt -= 1\n",
    "            for edge in head[x]:\n",
    "                if not vis[edge[1]]:\n",
    "                    q.put(edge[1])\n",
    "    \n",
    "    bfs(cnt)\n",
    "    for x in selected:\n",
    "        for edge in head[x]:\n",
    "            if edge[0] in selected and edge[1] in selected:\n",
    "                edges_r.append(edge)\n",
    "                head_r[x].append(edge)\n",
    "    return edges_r,head_r,selected\n",
    "\n",
    "def get_name(vid):\n",
    "    if vid2id[vid] in inf_data['influencer_id'].to_list():\n",
    "        return inf_data[inf_data.influencer_id == vid2id[vid]]['influencer_name'].reset_index(drop = True)[0]\n",
    "    return inf_data[inf_data.follower_id == vid2id[vid]]['follower_name'].reset_index(drop = True)[0]\n",
    "\n",
    "edges_sub,head_sub,selected = None,None,None\n",
    "root = 0\n",
    "for i in range(n):\n",
    "    if 5 < all_inf[i] < 10:\n",
    "        print('Selected artist ID:')\n",
    "        print(vid2id[i])\n",
    "        print('Selected artist name:')\n",
    "        print(get_name(i))\n",
    "        root = i\n",
    "        edges_sub,head_sub,selected = get_subnet(i,999,edges,head)\n",
    "        print('All nodes in subnet:')\n",
    "        print(selected)\n",
    "        break\n",
    "\n",
    "from graphviz import Digraph\n",
    "\n",
    "dot = Digraph(comment = 'Subnet')\n",
    "for node in selected:\n",
    "    dot.node(str(node),get_name(node) + '\\ninf=' + str(round(all_inf[node],2)) + ' in=' + str(in_d[node]),**{'width':'2', 'height':'1'})\n",
    "for edge in edges_sub:\n",
    "    dot.edge(str(edge[0]),str(edge[1]))\n",
    "dot.format = 'png'\n",
    "dot.render('output-graph.gv',view = True)"
   ]
  },
  {
   "cell_type": "code",
   "execution_count": 14,
   "metadata": {
    "scrolled": true
   },
   "outputs": [
    {
     "name": "stdout",
     "output_type": "stream",
     "text": [
      "inf_2 between Newsboys ans TobyMac:\n",
      "1.2375\n"
     ]
    }
   ],
   "source": [
    "print('inf_2 between Newsboys ans TobyMac:')\n",
    "print(influence_2(root,id2vid[510885]))"
   ]
  },
  {
   "cell_type": "markdown",
   "metadata": {},
   "source": [
    "# Task 2"
   ]
  },
  {
   "cell_type": "code",
   "execution_count": 15,
   "metadata": {},
   "outputs": [],
   "source": [
    "features = ['danceability','energy','valence','tempo','loudness','mode','key','acousticness','instrumentalness','liveness','speechiness','duration_ms'\n",
    "]\n",
    "class_features = ['mode','key']\n",
    "art_data = pd.read_csv('/home/qwq/2021_ICM_Problem_D_Data/data_by_artist.csv')"
   ]
  },
  {
   "cell_type": "code",
   "execution_count": 218,
   "metadata": {},
   "outputs": [
    {
     "data": {
      "application/vnd.jupyter.widget-view+json": {
       "model_id": "9d35f2785e354a9385ab395c59623d9d",
       "version_major": 2,
       "version_minor": 0
      },
      "text/plain": [
       "HBox(children=(FloatProgress(value=1.0, bar_style='info', max=1.0), HTML(value='')))"
      ]
     },
     "metadata": {},
     "output_type": "display_data"
    },
    {
     "name": "stdout",
     "output_type": "stream",
     "text": [
      "\n"
     ]
    }
   ],
   "source": [
    "def get_genre(i):\n",
    "    if i in inf_data['influencer_id'].to_list():\n",
    "        return inf_data[inf_data.influencer_id == i]['influencer_main_genre'].reset_index(drop = True)[0]\n",
    "    elif i in inf_data['follower_id'].to_list():\n",
    "        return inf_data[inf_data.follower_id == i]['follower_main_genre'].reset_index(drop = True)[0]\n",
    "    return 'unknown'\n",
    "\n",
    "def get_start(i):\n",
    "    if i in inf_data['influencer_id'].to_list():\n",
    "        return inf_data[inf_data.influencer_id == i]['influencer_active_start'].reset_index(drop = True)[0]\n",
    "    elif i in inf_data['follower_id'].to_list():\n",
    "        return inf_data[inf_data.follower_id == i]['follower_active_start'].reset_index(drop = True)[0]\n",
    "    return -1\n",
    "\n",
    "art_data['genre'] = None\n",
    "art_data['start'] = None\n",
    "for idx,row in tqdm(art_data.iterrows()):\n",
    "    art_data.at[idx,'genre'] = get_genre(row['artist_id'])\n",
    "    art_data.at[idx,'start'] = get_start(row['artist_id'])"
   ]
  },
  {
   "cell_type": "code",
   "execution_count": 21,
   "metadata": {},
   "outputs": [
    {
     "name": "stdout",
     "output_type": "stream",
     "text": [
      "Number of artists with an unknown main genre:\n",
      "252\n"
     ]
    }
   ],
   "source": [
    "print('Number of artists with an unknown main genre:')\n",
    "print(len(art_data[art_data.genre == 'unknown']))"
   ]
  },
  {
   "cell_type": "code",
   "execution_count": 22,
   "metadata": {},
   "outputs": [],
   "source": [
    "fm_data = pd.read_csv('/home/qwq/2021_ICM_Problem_D_Data/full_music_data.csv')"
   ]
  },
  {
   "cell_type": "code",
   "execution_count": 219,
   "metadata": {},
   "outputs": [],
   "source": [
    "def get_normalized(df):\n",
    "    res = pd.DataFrame(df)\n",
    "    for f in features:\n",
    "        if f not in class_features:\n",
    "            res[f] = (res[f] - res[f].mean()) / res[f].std()\n",
    "    return res\n",
    "\n",
    "art_norm = get_normalized(art_data)\n",
    "fm_norm = get_normalized(fm_data)"
   ]
  },
  {
   "cell_type": "code",
   "execution_count": 101,
   "metadata": {},
   "outputs": [
    {
     "data": {
      "application/vnd.jupyter.widget-view+json": {
       "model_id": "edcbbc58df954962b0dcd0d3ed634ab1",
       "version_major": 2,
       "version_minor": 0
      },
      "text/plain": [
       "HBox(children=(FloatProgress(value=1.0, bar_style='info', max=1.0), HTML(value='')))"
      ]
     },
     "metadata": {},
     "output_type": "display_data"
    },
    {
     "name": "stdout",
     "output_type": "stream",
     "text": [
      "\n"
     ]
    }
   ],
   "source": [
    "from torch.utils.data import Dataset\n",
    "import numpy as np\n",
    "\n",
    "class MusicEmbedDataset(Dataset):\n",
    "    def __init__(self):\n",
    "        self.triplets = []\n",
    "        for idx,row in tqdm(fm_norm.iterrows()):\n",
    "            if len(eval(row['artists_id'])) > 1:\n",
    "                continue\n",
    "            m_vec = np.array(list(row[features]))\n",
    "            a_vec = np.array(\n",
    "                list(\n",
    "                    art_norm[art_norm.artist_id == eval(row['artists_id'])[0]][features] \\\n",
    "                        .reset_index(drop = True).iloc(0)\n",
    "                )\n",
    "            ).squeeze(0)\n",
    "            other_a_vec = np.array(\n",
    "                list(\n",
    "                    art_norm[art_norm.artist_id != eval(row['artists_id'])[0]][features].sample(1) \\\n",
    "                        .reset_index(drop = True).iloc(0)\n",
    "                )\n",
    "            ).squeeze(0)\n",
    "            self.triplets.append((m_vec,a_vec,1))\n",
    "            self.triplets.append((m_vec,other_a_vec,-1))\n",
    "    \n",
    "    def __len__(self):\n",
    "        return len(self.triplets)\n",
    "    \n",
    "    def __getitem__(self,i):\n",
    "        return self.triplets[i]\n",
    "\n",
    "dataset = MusicEmbedDataset()"
   ]
  },
  {
   "cell_type": "code",
   "execution_count": 83,
   "metadata": {},
   "outputs": [],
   "source": [
    "from torch import nn\n",
    "\n",
    "class MLP(nn.Module):\n",
    "    def __init__(self):\n",
    "        super(MLP,self).__init__()\n",
    "        self.layers = nn.Sequential(\n",
    "            nn.Linear(12,12),\n",
    "            nn.ReLU(),\n",
    "            nn.Linear(12,12),\n",
    "            nn.ReLU(),\n",
    "            nn.Linear(12,12)\n",
    "        )\n",
    "    \n",
    "    def forward(self,x):\n",
    "        return self.layers(x)"
   ]
  },
  {
   "cell_type": "code",
   "execution_count": 105,
   "metadata": {
    "scrolled": true
   },
   "outputs": [
    {
     "name": "stdout",
     "output_type": "stream",
     "text": [
      "Raw loss:\n",
      "0.41326824\n"
     ]
    },
    {
     "data": {
      "application/vnd.jupyter.widget-view+json": {
       "model_id": "fc0249a7b4ee40dda8b2c72830b9cb32",
       "version_major": 2,
       "version_minor": 0
      },
      "text/plain": [
       "HBox(children=(FloatProgress(value=0.0, max=5.0), HTML(value='')))"
      ]
     },
     "metadata": {},
     "output_type": "display_data"
    },
    {
     "data": {
      "application/vnd.jupyter.widget-view+json": {
       "model_id": "23165cb657084d1c80043424675ef0f5",
       "version_major": 2,
       "version_minor": 0
      },
      "text/plain": [
       "HBox(children=(FloatProgress(value=1.0, bar_style='info', max=1.0), HTML(value='')))"
      ]
     },
     "metadata": {},
     "output_type": "display_data"
    },
    {
     "name": "stdout",
     "output_type": "stream",
     "text": [
      "\n",
      "Epoch 0\n",
      "0.26502213\n",
      "Test result:\n",
      "0.24457783\n"
     ]
    },
    {
     "data": {
      "application/vnd.jupyter.widget-view+json": {
       "model_id": "0f7c9b72edd74c62b0530ae00ec28412",
       "version_major": 2,
       "version_minor": 0
      },
      "text/plain": [
       "HBox(children=(FloatProgress(value=1.0, bar_style='info', max=1.0), HTML(value='')))"
      ]
     },
     "metadata": {},
     "output_type": "display_data"
    },
    {
     "name": "stdout",
     "output_type": "stream",
     "text": [
      "\n",
      "Epoch 1\n",
      "0.24407102\n",
      "Test result:\n",
      "0.2419228\n"
     ]
    },
    {
     "data": {
      "application/vnd.jupyter.widget-view+json": {
       "model_id": "d590b5b68a91452ebe5cfa1d856a8968",
       "version_major": 2,
       "version_minor": 0
      },
      "text/plain": [
       "HBox(children=(FloatProgress(value=1.0, bar_style='info', max=1.0), HTML(value='')))"
      ]
     },
     "metadata": {},
     "output_type": "display_data"
    },
    {
     "name": "stdout",
     "output_type": "stream",
     "text": [
      "\n",
      "Epoch 2\n",
      "0.24082513\n",
      "Test result:\n",
      "0.23944364\n"
     ]
    },
    {
     "data": {
      "application/vnd.jupyter.widget-view+json": {
       "model_id": "45664583eb5f45c8a0eddaa8d7e6736d",
       "version_major": 2,
       "version_minor": 0
      },
      "text/plain": [
       "HBox(children=(FloatProgress(value=1.0, bar_style='info', max=1.0), HTML(value='')))"
      ]
     },
     "metadata": {},
     "output_type": "display_data"
    },
    {
     "name": "stdout",
     "output_type": "stream",
     "text": [
      "\n",
      "Epoch 3\n",
      "0.23839658\n",
      "Test result:\n",
      "0.23818879\n"
     ]
    },
    {
     "data": {
      "application/vnd.jupyter.widget-view+json": {
       "model_id": "e71f399a172645efb67f4fb85797ba5b",
       "version_major": 2,
       "version_minor": 0
      },
      "text/plain": [
       "HBox(children=(FloatProgress(value=1.0, bar_style='info', max=1.0), HTML(value='')))"
      ]
     },
     "metadata": {},
     "output_type": "display_data"
    },
    {
     "name": "stdout",
     "output_type": "stream",
     "text": [
      "\n",
      "Epoch 4\n",
      "0.23688029\n",
      "Test result:\n",
      "0.23704273\n",
      "\n"
     ]
    }
   ],
   "source": [
    "from torch.utils.data import DataLoader,random_split\n",
    "import torch\n",
    "from torch import optim\n",
    "\n",
    "train_size = int(len(dataset) * 0.8)\n",
    "val_size = len(dataset) - train_size\n",
    "trainset,valset = random_split(dataset, [train_size,val_size])\n",
    "n_epochs = 5\n",
    "batch_size = 32\n",
    "baseline = 0\n",
    "\n",
    "model = MLP()\n",
    "\n",
    "def train():\n",
    "    loader = DataLoader(trainset,batch_size = batch_size,shuffle = True)\n",
    "    model.train()\n",
    "    optimizer = optim.Adam(model.parameters(),lr = 1e-3)\n",
    "    criterion = nn.CosineEmbeddingLoss()\n",
    "    for epoch in tqdm(range(n_epochs)):\n",
    "        losses = []\n",
    "        for idx,(x,y,l) in tqdm(enumerate(loader)):\n",
    "            x,y,l = x.float(),y.float(),l.float()\n",
    "            loss = criterion(model(x),model(y),l)\n",
    "            optimizer.zero_grad()\n",
    "            loss.backward()\n",
    "            optimizer.step()\n",
    "            losses.append(loss.cpu().detach().numpy())\n",
    "        if epoch % 1 == 0:\n",
    "            print('Epoch ' + str(epoch))\n",
    "            print(np.mean(np.array(losses))) \n",
    "            test(model)\n",
    "            model.train()\n",
    "\n",
    "def calc_baseline():\n",
    "    loader = DataLoader(valset,batch_size = batch_size,shuffle = True)\n",
    "    criterion = nn.CosineEmbeddingLoss()\n",
    "    sims = []\n",
    "    for idx,(x,y,l) in enumerate(loader):\n",
    "        x,y,l = x.float(),y.float(),l.float()\n",
    "        sim = criterion(x,y,l)\n",
    "        sims.append(sim)\n",
    "    baseline = np.mean(np.array(sims))\n",
    "    print('Raw loss:')\n",
    "    print(baseline)\n",
    "    \n",
    "def test(model):\n",
    "    loader = DataLoader(valset,batch_size = batch_size,shuffle = True)\n",
    "    criterion = nn.CosineEmbeddingLoss()\n",
    "    model.eval()\n",
    "    sims = []\n",
    "    for idx,(x,y,l) in enumerate(loader):\n",
    "        x,y,l = x.float(),y.float(),l.float()\n",
    "        x,y = model(x).detach(),model(y).detach()\n",
    "        sim = criterion(x,y,l)\n",
    "        sims.append(sim)\n",
    "    print('Test result:')\n",
    "    print(np.mean(np.array(sims)))\n",
    "\n",
    "calc_baseline()\n",
    "train()"
   ]
  },
  {
   "cell_type": "code",
   "execution_count": 116,
   "metadata": {},
   "outputs": [
    {
     "data": {
      "application/vnd.jupyter.widget-view+json": {
       "model_id": "fd495c65e2984d96aa3b169333a6e01c",
       "version_major": 2,
       "version_minor": 0
      },
      "text/plain": [
       "HBox(children=(FloatProgress(value=1.0, bar_style='info', max=1.0), HTML(value='')))"
      ]
     },
     "metadata": {},
     "output_type": "display_data"
    },
    {
     "name": "stdout",
     "output_type": "stream",
     "text": [
      "\n",
      "Mean simularities:\n",
      "0.20070157232786645 0.05815185771226174\n"
     ]
    }
   ],
   "source": [
    "def sim(v1,v2):\n",
    "    x,y = torch.from_numpy(v1).float(),torch.from_numpy(v2).float()\n",
    "    x,y = model(x).detach().numpy(),model(y).detach().numpy()\n",
    "    return np.sum(x * y) / (np.sum(x * x) ** 0.5 * np.sum(y * y) ** 0.5)\n",
    "\n",
    "same_genre_sims = []\n",
    "dif_genre_sims = []\n",
    "\n",
    "art_part = art_data.sample(frac = 0.05)\n",
    "for idx1,row1 in tqdm(art_part.iterrows()):\n",
    "    for idx2,row2 in art_part.iterrows():\n",
    "        if row1['genre'] != 'unknown' and row2['genre'] != 'unknown' and idx1 != idx2:\n",
    "            s = sim(np.array(list(row1[features])),np.array(list(row2[features])))\n",
    "            if row1['genre'] == row2['genre']:\n",
    "                same_genre_sims.append(s)\n",
    "            else:\n",
    "                dif_genre_sims.append(s)"
   ]
  },
  {
   "cell_type": "code",
   "execution_count": 122,
   "metadata": {},
   "outputs": [
    {
     "name": "stdout",
     "output_type": "stream",
     "text": [
      "Number of simularities:\n",
      "22236 56444\n",
      "Mean simularities:\n",
      "0.20070157232786645 0.05815185771226174\n"
     ]
    }
   ],
   "source": [
    "print('Number of simularities:')\n",
    "print(len(same_genre_sims),len(dif_genre_sims))\n",
    "print('Mean simularities:')\n",
    "print(np.mean(np.array(same_genre_sims)),np.mean(np.array(dif_genre_sims)))\n",
    "mx,mn = np.max(np.array(same_genre_sims + dif_genre_sims)),np.min(np.array(same_genre_sims + dif_genre_sims))"
   ]
  },
  {
   "cell_type": "markdown",
   "metadata": {},
   "source": [
    "# Task 5"
   ]
  },
  {
   "cell_type": "code",
   "execution_count": 129,
   "metadata": {},
   "outputs": [],
   "source": [
    "yr_data = pd.read_csv('/home/qwq/2021_ICM_Problem_D_Data/data_by_year.csv')\n",
    "yr_norm = get_normalized(yr_data)"
   ]
  },
  {
   "cell_type": "code",
   "execution_count": 133,
   "metadata": {},
   "outputs": [],
   "source": [
    "sims = []\n",
    "for i in range(len(yr_data)):\n",
    "    if i != 0:\n",
    "        sims.append(sim(yr_norm[features].values[i - 1],yr_norm[features].values[i]))"
   ]
  },
  {
   "cell_type": "code",
   "execution_count": 191,
   "metadata": {},
   "outputs": [],
   "source": [
    "import matplotlib.pyplot as plt\n",
    "%matplotlib qt5\n",
    "\n",
    "rev_years = [1929,1958,1961,1962,1969,1996]\n",
    "\n",
    "plt.figure(figsize = (10, 10))\n",
    "plt.xlabel('Year')\n",
    "plt.ylabel('Similarity To Last Year')\n",
    "plt.plot([i for i in range(1922,2021)],\n",
    "         sims,\n",
    "         marker = 'o',\n",
    "         markevery = [i - 1922 for i in rev_years]\n",
    "        )\n",
    "plt.locator_params(nbins = 20)\n",
    "for y in rev_years:\n",
    "    plt.text(y + 0.7,sims[y - 1922],str(y))\n",
    "plt.show()"
   ]
  },
  {
   "cell_type": "code",
   "execution_count": 221,
   "metadata": {},
   "outputs": [
    {
     "data": {
      "application/vnd.jupyter.widget-view+json": {
       "model_id": "bf6ad84074044f28a038c7b3bed8289a",
       "version_major": 2,
       "version_minor": 0
      },
      "text/plain": [
       "HBox(children=(FloatProgress(value=1.0, bar_style='info', max=1.0), HTML(value='')))"
      ]
     },
     "metadata": {},
     "output_type": "display_data"
    },
    {
     "name": "stdout",
     "output_type": "stream",
     "text": [
      "\n"
     ]
    }
   ],
   "source": [
    "top_artists = [[] for i in range(len(rev_years))]\n",
    "for idx,row in tqdm(art_norm.iterrows()):\n",
    "    for i in range(len(rev_years)):\n",
    "        if row['start'] == -1 or row['start'] > rev_years[i] + 10:\n",
    "            continue\n",
    "        top_artists[i].append(\n",
    "            (row['artist_id'],\n",
    "             row['artist_name'],\n",
    "             row['popularity'] * sim(art_norm[features].values[idx],\n",
    "                                     yr_norm[features].values[rev_years[i] - 1921]\n",
    "                                    )\n",
    "            )\n",
    "        )"
   ]
  },
  {
   "cell_type": "code",
   "execution_count": 222,
   "metadata": {},
   "outputs": [
    {
     "name": "stdout",
     "output_type": "stream",
     "text": [
      "Revolution representatives:\n",
      "Year 1929\n",
      "[(816895, 'The Delta Rhythm Boys', 53.07941797465448), (197532, 'Charles TrÃ©net', 37.969537800561795), (300659, 'Pedro Infante', 37.0950356961642), (591620, 'Antonio MachÃ\\xadn', 36.15749852198499), (753094, 'Son House', 35.448002290608635)]\n",
      "Year 1958\n",
      "[(760977, 'The Five Stairsteps', 56.94247876480318), (863774, 'Ralph McTell', 55.0446090092075), (289177, 'Sam the Sham & the Pharaohs', 51.16187767683868), (773642, 'The Kingsmen', 50.3326057883514), (754032, 'The Beatles', 45.068159345223954)]\n",
      "Year 1961\n",
      "[(720786, 'Pete Brown', 43.732144307577265), (755030, 'Steve Harley & Cockney Rebel', 41.76825378098594), (6613, 'Ali Farka TourÃ©', 41.040785560799804), (866767, 'Randy VanWarmer', 40.986492064150994), (863774, 'Ralph McTell', 40.07940381391444)]\n",
      "Year 1962\n",
      "[(760977, 'The Five Stairsteps', 60.21656139816118), (773642, 'The Kingsmen', 56.346039802260165), (863774, 'Ralph McTell', 54.30191547691746), (752673, 'Steve Forbert', 54.12186447444841), (866767, 'Randy VanWarmer', 53.472618045242356)]\n",
      "Year 1969\n",
      "[(35719, 'Steve Harley', 61.11726511657857), (188467, 'John Parr', 51.26441626769301), (755030, 'Steve Harley & Cockney Rebel', 50.57266549028284), (931015, 'Tom Cochrane', 50.05577647318981), (809446, 'Visage', 49.6090700302672)]\n",
      "Year 1996\n",
      "[(3077599, 'TGT', 57.61402702515052), (237773, 'Mark Ronson', 57.31968163978729), (2424073, 'Thundercat', 56.68473455654736), (57205, 'Bob Moses', 56.38543532462268), (933621, 'Alannah Myles', 55.755255693936576)]\n"
     ]
    }
   ],
   "source": [
    "rev_arts = []\n",
    "top_k = 5\n",
    "for a in top_artists:\n",
    "    rev_arts.append(sorted(a,key = lambda x:x[2],reverse = True)[:top_k])\n",
    "\n",
    "print('Revolution representatives:')\n",
    "for i in range(len(rev_years)):\n",
    "    print('Year ' + str(rev_years[i]))\n",
    "    print(rev_arts[i])"
   ]
  },
  {
   "cell_type": "code",
   "execution_count": 235,
   "metadata": {},
   "outputs": [
    {
     "name": "stdout",
     "output_type": "stream",
     "text": [
      "[[ 0.56265242  0.46231001  0.59072124  0.62201784  0.80514247  0.87449557]\n",
      " [ 2.10482871 -1.07432554 -0.92789473 -0.73572735 -0.90302098  1.04235132]\n",
      " [-1.30817064 -0.87742433 -0.68374648 -0.46292672  0.20481843  0.82568542]\n",
      " [ 1.74373552 -0.70331009 -0.31119532  0.40950885  0.34381092  0.47787888]\n",
      " [-0.81202059 -0.54872527 -0.64650449 -0.19158623  0.1616338   0.22687605]\n",
      " [-1.49763335 -0.75400332 -0.71594034 -0.36374332 -0.05316254  0.84200265]\n",
      " [ 1.          1.          1.          1.          1.          1.        ]\n",
      " [ 7.          0.          0.          0.          2.          7.        ]\n",
      " [ 0.13642012  0.79828548  0.70578529  0.5688225  -0.38602532 -0.94537277]\n",
      " [ 0.21061972 -0.04532997  0.52473362 -0.14374294 -0.27898927 -0.82755503]\n",
      " [ 1.46145282 -0.30269256  0.08461883 -0.13409938 -0.03876229 -0.48347773]\n",
      " [ 5.81838202 -0.65750394 -0.59154941 -0.65259281 -0.68270581 -0.20732922]\n",
      " [-2.25348709 -0.55302224  0.14663729 -0.65619511  0.64537039  0.83925891]]\n"
     ]
    },
    {
     "data": {
      "text/plain": [
       "array([ 1.        ,  0.18195458,  0.9204666 ,  0.21695366,  0.88096846,\n",
       "        0.83702122,         nan,  0.45576963, -0.91639764, -0.73910463,\n",
       "       -0.34651248, -0.24218257,  0.6850046 ])"
      ]
     },
     "execution_count": 235,
     "metadata": {},
     "output_type": "execute_result"
    }
   ],
   "source": [
    "rev_sims = [sims[y - 1922] for y in rev_years]\n",
    "rev_year_datas = np.array([yr_norm[features].values[y - 1921] for y in rev_years])\n",
    "print(np.vstack((rev_sims,rev_year_datas.transpose())))\n",
    "corr_map = np.corrcoef(np.vstack((rev_sims,rev_year_datas.transpose())))\n",
    "corr_map[0]"
   ]
  },
  {
   "attachments": {},
   "cell_type": "markdown",
   "metadata": {},
   "source": [
    "| danceability | energy | valence | tempo | loudness | mode | key | acousticness | instrumentalness | liveness | speechness | duration_ms |\n",
    "|  ----  | ----  | ----  | ----  | ----  | ----  | ----  | ----  | ----  | ----  | ----  | ----  |\n",
    "| 0.18195458 | 0.9204666 | 0.21695366 | 0.88096846 | 0.83702122 |  nan | 0.45576963 | -0.91639764 | -0.73910463 | -0.34651248 | -0.24218257 |  0.6850046 |\n",
    "| low | perfect | low | very large | very large | low | medium | perfect | very large | medium | low | high |\n"
   ]
  },
  {
   "cell_type": "markdown",
   "metadata": {},
   "source": [
    "# Task 3"
   ]
  },
  {
   "cell_type": "code",
   "execution_count": 243,
   "metadata": {
    "scrolled": true
   },
   "outputs": [
    {
     "data": {
      "application/vnd.jupyter.widget-view+json": {
       "model_id": "268f5b82c4a247eca1ae35f869ec1b8c",
       "version_major": 2,
       "version_minor": 0
      },
      "text/plain": [
       "HBox(children=(FloatProgress(value=0.0, max=5603.0), HTML(value='')))"
      ]
     },
     "metadata": {},
     "output_type": "display_data"
    },
    {
     "name": "stdout",
     "output_type": "stream",
     "text": [
      "\n"
     ]
    }
   ],
   "source": [
    "inf2_all = [[0 for i in range(n)] for i in range(n)]\n",
    "for i in tqdm(range(n)):\n",
    "    for j in range(n):\n",
    "        inf2_all[i][j] = influence_2(i,j)"
   ]
  },
  {
   "cell_type": "code",
   "execution_count": 245,
   "metadata": {},
   "outputs": [],
   "source": [
    "with open('inf2all.pkl','wb') as f:\n",
    "    pkl.dump(inf2_all,f)"
   ]
  },
  {
   "cell_type": "code",
   "execution_count": 255,
   "metadata": {},
   "outputs": [
    {
     "data": {
      "application/vnd.jupyter.widget-view+json": {
       "model_id": "294f9859f20342e5a998b27d04da976f",
       "version_major": 2,
       "version_minor": 0
      },
      "text/plain": [
       "HBox(children=(FloatProgress(value=1.0, bar_style='info', max=1.0), HTML(value='')))"
      ]
     },
     "metadata": {},
     "output_type": "display_data"
    },
    {
     "name": "stdout",
     "output_type": "stream",
     "text": [
      "\n"
     ]
    }
   ],
   "source": [
    "art_inf = pd.DataFrame(columns = ('id','name','genre','start'))\n",
    "tmp = []\n",
    "for idx,row in tqdm(inf_data.iterrows()):\n",
    "    tmp.append({'id':row['influencer_id'],\n",
    "                     'name':row['influencer_name'],\n",
    "                     'genre':row['influencer_main_genre'],\n",
    "                     'start':row['influencer_active_start']\n",
    "                })\n",
    "    tmp.append({'id':row['follower_id'],\n",
    "                     'name':row['follower_name'],\n",
    "                     'genre':row['follower_main_genre'],\n",
    "                     'start':row['follower_active_start']\n",
    "                })"
   ]
  },
  {
   "cell_type": "code",
   "execution_count": 256,
   "metadata": {},
   "outputs": [
    {
     "data": {
      "text/html": [
       "<div>\n",
       "<style scoped>\n",
       "    .dataframe tbody tr th:only-of-type {\n",
       "        vertical-align: middle;\n",
       "    }\n",
       "\n",
       "    .dataframe tbody tr th {\n",
       "        vertical-align: top;\n",
       "    }\n",
       "\n",
       "    .dataframe thead th {\n",
       "        text-align: right;\n",
       "    }\n",
       "</style>\n",
       "<table border=\"1\" class=\"dataframe\">\n",
       "  <thead>\n",
       "    <tr style=\"text-align: right;\">\n",
       "      <th></th>\n",
       "      <th>id</th>\n",
       "      <th>name</th>\n",
       "      <th>genre</th>\n",
       "      <th>start</th>\n",
       "    </tr>\n",
       "  </thead>\n",
       "  <tbody>\n",
       "    <tr>\n",
       "      <th>0</th>\n",
       "      <td>759491</td>\n",
       "      <td>The Exploited</td>\n",
       "      <td>Pop/Rock</td>\n",
       "      <td>1980</td>\n",
       "    </tr>\n",
       "    <tr>\n",
       "      <th>1</th>\n",
       "      <td>74</td>\n",
       "      <td>Special Duties</td>\n",
       "      <td>Pop/Rock</td>\n",
       "      <td>1980</td>\n",
       "    </tr>\n",
       "    <tr>\n",
       "      <th>2</th>\n",
       "      <td>25462</td>\n",
       "      <td>Tricky</td>\n",
       "      <td>Electronic</td>\n",
       "      <td>1990</td>\n",
       "    </tr>\n",
       "    <tr>\n",
       "      <th>3</th>\n",
       "      <td>335</td>\n",
       "      <td>PJ Harvey</td>\n",
       "      <td>Pop/Rock</td>\n",
       "      <td>1990</td>\n",
       "    </tr>\n",
       "    <tr>\n",
       "      <th>4</th>\n",
       "      <td>66915</td>\n",
       "      <td>Bob Dylan</td>\n",
       "      <td>Pop/Rock</td>\n",
       "      <td>1960</td>\n",
       "    </tr>\n",
       "    <tr>\n",
       "      <th>...</th>\n",
       "      <td>...</td>\n",
       "      <td>...</td>\n",
       "      <td>...</td>\n",
       "      <td>...</td>\n",
       "    </tr>\n",
       "    <tr>\n",
       "      <th>5601</th>\n",
       "      <td>3661738</td>\n",
       "      <td>Rosemary &amp; Garlic</td>\n",
       "      <td>Pop/Rock</td>\n",
       "      <td>2010</td>\n",
       "    </tr>\n",
       "    <tr>\n",
       "      <th>5602</th>\n",
       "      <td>261309</td>\n",
       "      <td>Vybz Kartel</td>\n",
       "      <td>Reggae</td>\n",
       "      <td>2000</td>\n",
       "    </tr>\n",
       "    <tr>\n",
       "      <th>5603</th>\n",
       "      <td>3670556</td>\n",
       "      <td>Trinidad Cardona</td>\n",
       "      <td>R&amp;B;</td>\n",
       "      <td>2010</td>\n",
       "    </tr>\n",
       "    <tr>\n",
       "      <th>5604</th>\n",
       "      <td>2518003</td>\n",
       "      <td>Popcaan</td>\n",
       "      <td>Reggae</td>\n",
       "      <td>2000</td>\n",
       "    </tr>\n",
       "    <tr>\n",
       "      <th>5605</th>\n",
       "      <td>2896351</td>\n",
       "      <td>Tommy Lee</td>\n",
       "      <td>Reggae</td>\n",
       "      <td>2000</td>\n",
       "    </tr>\n",
       "  </tbody>\n",
       "</table>\n",
       "<p>5606 rows × 4 columns</p>\n",
       "</div>"
      ],
      "text/plain": [
       "           id               name       genre start\n",
       "0      759491      The Exploited    Pop/Rock  1980\n",
       "1          74     Special Duties    Pop/Rock  1980\n",
       "2       25462             Tricky  Electronic  1990\n",
       "3         335          PJ Harvey    Pop/Rock  1990\n",
       "4       66915          Bob Dylan    Pop/Rock  1960\n",
       "...       ...                ...         ...   ...\n",
       "5601  3661738  Rosemary & Garlic    Pop/Rock  2010\n",
       "5602   261309        Vybz Kartel      Reggae  2000\n",
       "5603  3670556   Trinidad Cardona        R&B;  2010\n",
       "5604  2518003            Popcaan      Reggae  2000\n",
       "5605  2896351          Tommy Lee      Reggae  2000\n",
       "\n",
       "[5606 rows x 4 columns]"
      ]
     },
     "execution_count": 256,
     "metadata": {},
     "output_type": "execute_result"
    }
   ],
   "source": [
    "art_inf = art_inf.append(tmp,ignore_index = True).drop_duplicates().reset_index(drop = True)\n",
    "art_inf"
   ]
  },
  {
   "cell_type": "code",
   "execution_count": 344,
   "metadata": {},
   "outputs": [
    {
     "data": {
      "text/plain": [
       "['Easy Listening',\n",
       " 'Classical',\n",
       " 'International',\n",
       " 'R&B;',\n",
       " 'Latin',\n",
       " 'New Age',\n",
       " 'Religious',\n",
       " 'Vocal',\n",
       " 'Comedy/Spoken',\n",
       " 'Stage & Screen',\n",
       " 'Jazz',\n",
       " 'Blues',\n",
       " 'Pop/Rock',\n",
       " 'Folk',\n",
       " 'Country',\n",
       " 'Reggae',\n",
       " 'Avant-Garde',\n",
       " 'Electronic',\n",
       " \"Children's\"]"
      ]
     },
     "execution_count": 344,
     "metadata": {},
     "output_type": "execute_result"
    }
   ],
   "source": [
    "genres = set(art_inf['genre'])\n",
    "genres.remove('Unknown')\n",
    "genres = list(genres)\n",
    "genre_acnt = []\n",
    "for g in genres:\n",
    "    genre_acnt.append(len(art_inf[art_inf.genre == g]))\n",
    "genres"
   ]
  },
  {
   "cell_type": "code",
   "execution_count": 345,
   "metadata": {},
   "outputs": [],
   "source": [
    "import matplotlib.pyplot as plt\n",
    "\n",
    "plt.figure(figsize = (20, 10))\n",
    "plt.bar(genres,genre_acnt)\n",
    "plt.xticks(range(len(genres)),genres,rotation = 45)\n",
    "plt.xlabel('Genre')\n",
    "plt.ylabel('Number of Artists')\n",
    "plt.tight_layout()\n",
    "plt.show()"
   ]
  },
  {
   "cell_type": "code",
   "execution_count": 346,
   "metadata": {},
   "outputs": [],
   "source": [
    "genre_vecs = []\n",
    "for g in genres:\n",
    "    all_art_vec = art_norm[art_norm.artist_id.isin(\n",
    "        list(art_inf[art_inf.genre == g]['id'])\n",
    "    )][features].values\n",
    "    genre_vec = np.zeros(len(features))\n",
    "    for line in all_art_vec:\n",
    "        genre_vec += line\n",
    "    genre_vec /= len(all_art_vec)\n",
    "    genre_vec[5] = int(genre_vec[5] + 0.5)\n",
    "    genre_vec[6] = int(genre_vec[6] + 0.5) #Class features\n",
    "    genre_vecs.append(genre_vec)"
   ]
  },
  {
   "cell_type": "code",
   "execution_count": 639,
   "metadata": {},
   "outputs": [
    {
     "data": {
      "application/vnd.jupyter.widget-view+json": {
       "model_id": "d9e56e5916854513a5fa1f7c449ba249",
       "version_major": 2,
       "version_minor": 0
      },
      "text/plain": [
       "HBox(children=(FloatProgress(value=1.0, bar_style='info', max=1.0), HTML(value='')))"
      ]
     },
     "metadata": {},
     "output_type": "display_data"
    },
    {
     "name": "stdout",
     "output_type": "stream",
     "text": [
      "\n"
     ]
    }
   ],
   "source": [
    "same_genre_infs = []\n",
    "dif_genre_infs = []\n",
    "same_genre_sims = []\n",
    "dif_genre_sims = []\n",
    "\n",
    "art_part = art_norm.sample(frac = 0.2)\n",
    "for idx1,row1 in tqdm(art_part.iterrows()):\n",
    "    for idx2,row2 in art_part.iterrows():\n",
    "        if row1['genre'] != 'unknown' and row2['genre'] != 'unknown' and idx1 < idx2:\n",
    "            s = sim(np.array(list(row1[features])),np.array(list(row2[features])))\n",
    "            if row1['genre'] == row2['genre']:\n",
    "                same_genre_sims.append(s)\n",
    "            else:\n",
    "                dif_genre_sims.append(s)\n",
    "                \n",
    "            a1,a2 = id2vid[row1['artist_id']],id2vid[row2['artist_id']]\n",
    "            d = max(influence_2(a1,a2),influence_2(a2,a1))\n",
    "            if row1['genre'] == row2['genre']:\n",
    "                same_genre_infs.append(d)\n",
    "            else:\n",
    "                dif_genre_infs.append(d)"
   ]
  },
  {
   "cell_type": "code",
   "execution_count": 640,
   "metadata": {},
   "outputs": [
    {
     "name": "stdout",
     "output_type": "stream",
     "text": [
      "Miu and Sigma\n",
      "Same genre similarity:\n",
      "0.2359832994396561 0.44211757369971005\n",
      "Different genre similarity:\n",
      "0.02624870439475074 0.4398871857056197\n",
      "Same genre influence:\n",
      "0.3921641282325098 3.793201854918767\n",
      "Different genre influence:\n",
      "0.4804580181312725 2.764178424187365\n"
     ]
    }
   ],
   "source": [
    "print('Miu and Sigma')\n",
    "print('Same genre similarity:')\n",
    "print(np.mean(np.array(same_genre_sims)),np.std(np.array(same_genre_sims)))\n",
    "print('Different genre similarity:')\n",
    "print(np.mean(np.array(dif_genre_sims)),np.std(np.array(dif_genre_sims)))\n",
    "print('Same genre influence:')\n",
    "print(np.mean(np.array(same_genre_infs)),np.std(np.array(same_genre_infs)))\n",
    "print('Different genre influence:')\n",
    "print(np.mean(np.array(dif_genre_infs)),np.std(np.array(dif_genre_infs)))"
   ]
  },
  {
   "cell_type": "code",
   "execution_count": 641,
   "metadata": {},
   "outputs": [],
   "source": [
    "same_genre_sigma,same_genre_miu = np.std(np.array(same_genre_infs)),np.mean(np.array(same_genre_infs))"
   ]
  },
  {
   "cell_type": "code",
   "execution_count": 642,
   "metadata": {},
   "outputs": [],
   "source": [
    "art_df_list = []\n",
    "for g in genres:\n",
    "    if g != 'Unknown' and g != 'Children\\'s':\n",
    "        art_df_list.append(\n",
    "            art_norm[art_norm.artist_id.isin(\n",
    "                        list(art_inf[art_inf.genre == g]['id'])\n",
    "            )].sample(n = 100,replace = True)\n",
    "        )\n",
    "art_df_list.append(art_norm[art_norm.artist_id.isin(\n",
    "                        list(art_inf[art_inf.genre == 'Children\\'s']['id'])\n",
    "                )])\n",
    "art_part = pd.concat(art_df_list).reset_index(drop = True)"
   ]
  },
  {
   "cell_type": "code",
   "execution_count": 643,
   "metadata": {},
   "outputs": [
    {
     "data": {
      "application/vnd.jupyter.widget-view+json": {
       "model_id": "a4f0232e311a4e48859eaf80e1e688d6",
       "version_major": 2,
       "version_minor": 0
      },
      "text/plain": [
       "HBox(children=(FloatProgress(value=1.0, bar_style='info', max=1.0), HTML(value='')))"
      ]
     },
     "metadata": {},
     "output_type": "display_data"
    },
    {
     "name": "stdout",
     "output_type": "stream",
     "text": [
      "\n"
     ]
    }
   ],
   "source": [
    "genre_inf = [[0 for i in range(len(genres))] for i in range(len(genres))]\n",
    "cnt = [[0 for i in range(len(genres))] for i in range(len(genres))]\n",
    "for idx1,row1 in tqdm(art_part.iterrows()):\n",
    "    for idx2,row2 in art_part.iterrows():\n",
    "        if idx1 > idx2:\n",
    "            a1,a2 = id2vid[row1['artist_id']],id2vid[row2['artist_id']]\n",
    "            d = max(influence_2(a1,a2),influence_2(a2,a1))\n",
    "            g1 = genres.index(list(art_inf[art_inf.id == row1['artist_id']]['genre'])[0])\n",
    "            g2 = genres.index(list(art_inf[art_inf.id == row2['artist_id']]['genre'])[0])\n",
    "            if g1 != g2:\n",
    "                genre_inf[g1][g2] += d\n",
    "                cnt[g1][g2] += 1\n",
    "\n",
    "genre_related_prob = np.array(genre_inf) / np.array(cnt)"
   ]
  },
  {
   "cell_type": "code",
   "execution_count": 644,
   "metadata": {},
   "outputs": [],
   "source": [
    "import scipy.stats as st\n",
    "\n",
    "for i in range(len(genres)):\n",
    "    for j in range(len(genres)):\n",
    "        if genre_related_prob[i][j] == np.nan:\n",
    "            genre_related_prob[i][j] = 0\n",
    "        else:\n",
    "            #genre_related_prob[i][j] = norm_prob_dense(genre_related_prob[i][j],same_genre_miu,same_genre_sigma)\n",
    "            margin = abs(genre_related_prob[i][j] - same_genre_miu)\n",
    "            genre_related_prob[i][j] = st.norm.cdf(same_genre_miu + margin,loc = same_genre_miu,scale = same_genre_sigma) - st.norm.cdf(same_genre_miu - margin,loc = same_genre_miu,scale = same_genre_sigma)"
   ]
  },
  {
   "cell_type": "code",
   "execution_count": 645,
   "metadata": {},
   "outputs": [],
   "source": [
    "import matplotlib.pyplot as plt\n",
    "\n",
    "plt.figure(figsize = (10, 10))\n",
    "plt.imshow(genre_related_prob, cmap = plt.cm.cool)\n",
    "plt.xticks(range(len(genres)),genres,rotation = 65)\n",
    "plt.yticks(range(len(genres)),genres,rotation = 65)\n",
    "plt.colorbar()\n",
    "plt.show()"
   ]
  },
  {
   "cell_type": "code",
   "execution_count": 420,
   "metadata": {},
   "outputs": [],
   "source": [
    "box_df = pd.DataFrame(np.array(genre_vecs),columns = features)\n",
    "plt.figure(figsize = (10, 10))\n",
    "box_df.boxplot(vert = False)\n",
    "plt.show()"
   ]
  },
  {
   "cell_type": "code",
   "execution_count": 432,
   "metadata": {},
   "outputs": [
    {
     "name": "stdout",
     "output_type": "stream",
     "text": [
      "Number of active genres in each time interval:\n",
      "17\n",
      "19\n",
      "19\n",
      "19\n",
      "17\n"
     ]
    }
   ],
   "source": [
    "ti_n = 5\n",
    "time_intervals = [[1921,1941],[1941,1961],[1961,1981],[1981,2001],[2001,2021]] #left closed right open\n",
    "\n",
    "def get_active_artist_df(ti):\n",
    "    return art_norm[(art_norm.start != -1) & \\\n",
    "                    (art_norm.start >= ti[0] - 10) & (art_norm.start < ti[1] + 10) & \\\n",
    "                    (art_norm.genre != 'unknown') & (art_norm.genre != 'Unknown')]\n",
    "\n",
    "active_genres = []\n",
    "for ti in time_intervals:\n",
    "    active_genres.append(list(set(get_active_artist_df(ti)['genre'])))\n",
    "print('Number of active genres in each time interval:')\n",
    "for l in active_genres:\n",
    "    print(len(l))"
   ]
  },
  {
   "cell_type": "code",
   "execution_count": 458,
   "metadata": {},
   "outputs": [],
   "source": [
    "genre_vecs_divided = [[] for i in range(ti_n)]\n",
    "\n",
    "def get_genre_vec(g,ti):\n",
    "    aadf = get_active_artist_df(ti)\n",
    "    all_art_vec = aadf[aadf.genre == g][features].values\n",
    "    genre_vec = np.zeros(len(features))\n",
    "    for line in all_art_vec:\n",
    "        genre_vec += line\n",
    "    genre_vec /= len(all_art_vec)\n",
    "    genre_vec[5] = int(genre_vec[5] + 0.5)\n",
    "    genre_vec[6] = int(genre_vec[6] + 0.5) #Class features\n",
    "    return genre_vec\n",
    "\n",
    "for i in range(ti_n):\n",
    "    for g in active_genres[i]:\n",
    "        genre_vecs_divided[i].append(get_genre_vec(g,time_intervals[i]))"
   ]
  },
  {
   "cell_type": "code",
   "execution_count": 549,
   "metadata": {},
   "outputs": [],
   "source": [
    "from sklearn.decomposition import PCA\n",
    "from adjustText import adjust_text\n",
    "\n",
    "pca = PCA(n_components = 2)\n",
    "cur_ti = 0\n",
    "g_vecs = pca.fit_transform(genre_vecs_divided[cur_ti])\n",
    "plt.figure(figsize = (20, 20))\n",
    "texts = []\n",
    "for i in range(len(active_genres[cur_ti])):\n",
    "    plt.scatter(g_vecs[i][0],g_vecs[i][1])\n",
    "    texts.append(plt.text(g_vecs[i][0],g_vecs[i][1],active_genres[cur_ti][i]))\n",
    "adjust_text(texts,only_move = {'text': 'xy'})\n",
    "plt.show()"
   ]
  },
  {
   "cell_type": "markdown",
   "metadata": {},
   "source": [
    "# Task 6"
   ]
  },
  {
   "cell_type": "code",
   "execution_count": 561,
   "metadata": {
    "scrolled": true
   },
   "outputs": [
    {
     "data": {
      "text/plain": [
       "array([[532957, 'Cab Calloway', 27.66666667, 167301.63601383596],\n",
       "       [287604, 'Louis Jordan', 35.0, 132106.34920063958],\n",
       "       [259529, 'Lester Young', 12.02439024, 34001.45205368151],\n",
       "       [317093, 'Nat King Cole', 24.41909814, 33611.41897732868],\n",
       "       [805930, 'Charlie Christian', 10.37037037, 20930.254846077183],\n",
       "       [423829, 'Miles Davis', 22.70023148, 13644.316049630726],\n",
       "       [162677, 'Dizzy Gillespie', 13.88429752, 12194.149346353357],\n",
       "       [175553, 'John Coltrane', 22.72727273, 11811.861361533154],\n",
       "       [225389, 'Jay McShann', 47.0, 8762.66977449667],\n",
       "       [211758, 'Charlie Parker', 16.97, 7823.994753611596]], dtype=object)"
      ]
     },
     "execution_count": 561,
     "metadata": {},
     "output_type": "execute_result"
    }
   ],
   "source": [
    "jazz_influencers = art_norm[art_norm.genre == 'Jazz'][['artist_id','artist_name','popularity']]\n",
    "jazz_influencers['metric'] = None\n",
    "for idx,row in jazz_influencers.iterrows():\n",
    "    jazz_influencers.at[idx,'metric'] = all_inf[id2vid[row['artist_id']]] * row['popularity']\n",
    "jazz_influencers.sort_values(by = 'metric',ascending = False).values[:10]"
   ]
  },
  {
   "cell_type": "code",
   "execution_count": 571,
   "metadata": {},
   "outputs": [],
   "source": [
    "x_axis = ['1921~1940','1941~1960','1961~1980','1981~2000','2001~2020']\n",
    "genre_selected = 'Jazz'\n",
    "selected_vecs = []\n",
    "\n",
    "for i in range(ti_n):\n",
    "    selected_vecs.append(genre_vecs_divided[i][active_genres[i].index(genre_selected)])\n",
    "selected_vecs = np.array(selected_vecs).transpose()"
   ]
  },
  {
   "cell_type": "code",
   "execution_count": 586,
   "metadata": {},
   "outputs": [],
   "source": [
    "plt.figure(figsize = (10, 10))\n",
    "plt.plot(x_axis, selected_vecs[0], color='green', label='danceability')\n",
    "plt.plot(x_axis, selected_vecs[1], color='red', label='energy')\n",
    "plt.plot(x_axis, selected_vecs[2],  color='skyblue', label='valence')\n",
    "plt.plot(x_axis, selected_vecs[3], color='blue', label='tempo')\n",
    "plt.plot(x_axis, selected_vecs[4], color='yellow', label='loudness')\n",
    "plt.legend()\n",
    "plt.show()"
   ]
  },
  {
   "cell_type": "code",
   "execution_count": 587,
   "metadata": {},
   "outputs": [],
   "source": [
    "plt.figure(figsize = (10, 10))\n",
    "plt.plot(x_axis, selected_vecs[7], color='green', label='acousticness')\n",
    "plt.plot(x_axis, selected_vecs[8], color='red', label='instrumentalness')\n",
    "plt.plot(x_axis, selected_vecs[9],  color='skyblue', label='liveness')\n",
    "plt.plot(x_axis, selected_vecs[10], color='blue', label='speechiness')\n",
    "plt.plot(x_axis, selected_vecs[11], color='yellow', label='duration_ms')\n",
    "plt.legend()\n",
    "plt.show()"
   ]
  },
  {
   "cell_type": "code",
   "execution_count": 588,
   "metadata": {},
   "outputs": [],
   "source": [
    "plt.figure(figsize = (10, 10))\n",
    "plt.plot(x_axis, selected_vecs[5], color='green', label='mode')\n",
    "plt.plot(x_axis, selected_vecs[6], color='red', label='key')\n",
    "plt.legend()\n",
    "plt.show()"
   ]
  },
  {
   "cell_type": "markdown",
   "metadata": {},
   "source": [
    "# Task 4"
   ]
  },
  {
   "cell_type": "code",
   "execution_count": 628,
   "metadata": {
    "scrolled": true
   },
   "outputs": [
    {
     "data": {
      "application/vnd.jupyter.widget-view+json": {
       "model_id": "f42156217f944e04a9881df6c600a9db",
       "version_major": 2,
       "version_minor": 0
      },
      "text/plain": [
       "HBox(children=(FloatProgress(value=1.0, bar_style='info', max=1.0), HTML(value='')))"
      ]
     },
     "metadata": {},
     "output_type": "display_data"
    },
    {
     "name": "stdout",
     "output_type": "stream",
     "text": [
      "\n"
     ]
    }
   ],
   "source": [
    "sims_without_edge = []\n",
    "sims_with_edge = []\n",
    "\n",
    "for idx1,row1 in tqdm(art_norm.sample(n = 300).iterrows()):\n",
    "    for idx2,row2 in art_norm.sample(n = 300).iterrows():\n",
    "        if row1['artist_id'] in id2vid and row2['artist_id'] in id2vid:\n",
    "            u,v = id2vid[row1['artist_id']],id2vid[row2['artist_id']]\n",
    "            if sp[u][v] != 1 and sp[v][u] != 1:\n",
    "                sims_without_edge.append(sim(np.array(list(row1[features])),np.array(list(row2[features]))))"
   ]
  },
  {
   "cell_type": "code",
   "execution_count": 629,
   "metadata": {},
   "outputs": [
    {
     "data": {
      "application/vnd.jupyter.widget-view+json": {
       "model_id": "27c006a6dddf46e8a7e621f9243165cd",
       "version_major": 2,
       "version_minor": 0
      },
      "text/plain": [
       "HBox(children=(FloatProgress(value=1.0, bar_style='info', max=1.0), HTML(value='')))"
      ]
     },
     "metadata": {},
     "output_type": "display_data"
    },
    {
     "name": "stdout",
     "output_type": "stream",
     "text": [
      "\n"
     ]
    }
   ],
   "source": [
    "influencer_vecs = []\n",
    "follower_vecs = []\n",
    "\n",
    "for idx,row in tqdm(inf_data.iterrows()):\n",
    "    inf_vec = np.array(art_norm[art_norm.artist_id == row['influencer_id']][features])\n",
    "    if inf_vec.shape != (1,12):\n",
    "        continue\n",
    "    inf_vec = inf_vec.squeeze(0)\n",
    "    fol_vec = np.array(art_norm[art_norm.artist_id == row['follower_id']][features])\n",
    "    if fol_vec.shape != (1,12):\n",
    "        continue\n",
    "    fol_vec = fol_vec.squeeze(0)\n",
    "    sims_with_edge.append(sim(inf_vec,fol_vec))\n",
    "    influencer_vecs.append(inf_vec)\n",
    "    follower_vecs.append(fol_vec)"
   ]
  },
  {
   "cell_type": "code",
   "execution_count": 630,
   "metadata": {},
   "outputs": [
    {
     "name": "stdout",
     "output_type": "stream",
     "text": [
      "0.09276848164100499 0.4490273710120095\n",
      "0.5207397256161642 0.3841956255787107\n"
     ]
    }
   ],
   "source": [
    "sims_without_edge = np.array(sims_without_edge)\n",
    "sims_with_edge = np.array(sims_with_edge)\n",
    "\n",
    "print(np.mean(sims_without_edge),np.std(sims_without_edge))\n",
    "print(np.mean(sims_with_edge),np.std(sims_with_edge))"
   ]
  },
  {
   "cell_type": "code",
   "execution_count": 627,
   "metadata": {},
   "outputs": [],
   "source": [
    "selected_inf_idxs = sample([i for i in range(len(influencer_vecs))],k = 1000)"
   ]
  },
  {
   "cell_type": "code",
   "execution_count": 633,
   "metadata": {},
   "outputs": [
    {
     "data": {
      "application/vnd.jupyter.widget-view+json": {
       "model_id": "b1b7a56a4c814215b8411d2144cef865",
       "version_major": 2,
       "version_minor": 0
      },
      "text/plain": [
       "HBox(children=(FloatProgress(value=0.0, max=12.0), HTML(value='')))"
      ]
     },
     "metadata": {},
     "output_type": "display_data"
    },
    {
     "name": "stdout",
     "output_type": "stream",
     "text": [
      "\n"
     ]
    }
   ],
   "source": [
    "sims_feature_mask = [[] for i in range(len(features))]\n",
    "for i in tqdm(range(len(features))):\n",
    "    for idx in selected_inf_idxs:\n",
    "        inf_vec = np.array(influencer_vecs[idx])\n",
    "        fol_vec = np.array(follower_vecs[idx])\n",
    "        inf_vec[i] = 0\n",
    "        fol_vec[i] = 0\n",
    "        sims_feature_mask[i].append(sim(inf_vec,fol_vec))"
   ]
  },
  {
   "cell_type": "code",
   "execution_count": 638,
   "metadata": {},
   "outputs": [],
   "source": [
    "maksed_sim_mean_dev = [abs(np.mean(np.array(line)) - np.mean(sims_with_edge)) for line in sims_feature_mask]\n",
    "plt.figure(figsize = (30, 10))\n",
    "plt.plot(features,maksed_sim_mean_dev)\n",
    "plt.show()"
   ]
  },
  {
   "cell_type": "markdown",
   "metadata": {},
   "source": [
    "# Task 7"
   ]
  },
  {
   "cell_type": "code",
   "execution_count": 649,
   "metadata": {},
   "outputs": [],
   "source": [
    "pop_by_year = yr_data[['year','popularity']].values.transpose()\n",
    "plt.plot(pop_by_year[0],pop_by_year[1])\n",
    "plt.xlabel('Year')\n",
    "plt.ylabel('Popularity')\n",
    "plt.show()"
   ]
  },
  {
   "cell_type": "code",
   "execution_count": 690,
   "metadata": {},
   "outputs": [],
   "source": [
    "def get_active_artist_df(ti):\n",
    "    return art_norm[(art_norm.start != -1) & \\\n",
    "                    (art_norm.start >= ti[0] - 30) & (art_norm.start < ti[1] + 10) & \\\n",
    "                    (art_norm.genre != 'unknown') & (art_norm.genre != 'Unknown')]\n",
    "\n",
    "def genre_artist_plot(g):\n",
    "    ti_n = 10\n",
    "    tis = [[i,i + 10] for i in range(1921,2020,10)]\n",
    "    x_axis = [str(ti[0] - 1) + 's' for ti in tis]\n",
    "    y_axis = []\n",
    "    for ti in tis:\n",
    "        aadf = get_active_artist_df(ti)\n",
    "        y_axis.append(np.sum(aadf[aadf.genre == g]['popularity'].values))\n",
    "        #y_axis.append(len(aadf[aadf.genre == g]))\n",
    "    plt.plot(x_axis,y_axis,label = g)\n",
    "\n",
    "plt.figure(figsize = (10, 10))\n",
    "plt.xlabel('Decade')\n",
    "plt.ylabel('Total Polularity')\n",
    "genre_artist_plot('Jazz')\n",
    "genre_artist_plot('Reggae')\n",
    "genre_artist_plot('Blues')\n",
    "genre_artist_plot('R&B;')\n",
    "genre_artist_plot('Electronic')\n",
    "genre_artist_plot('Country')\n",
    "plt.legend()\n",
    "plt.show()"
   ]
  },
  {
   "cell_type": "code",
   "execution_count": null,
   "metadata": {},
   "outputs": [],
   "source": []
  }
 ],
 "metadata": {
  "kernelspec": {
   "display_name": "Python 3",
   "language": "python",
   "name": "python3"
  },
  "language_info": {
   "codemirror_mode": {
    "name": "ipython",
    "version": 3
   },
   "file_extension": ".py",
   "mimetype": "text/x-python",
   "name": "python",
   "nbconvert_exporter": "python",
   "pygments_lexer": "ipython3",
   "version": "3.8.3"
  }
 },
 "nbformat": 4,
 "nbformat_minor": 4
}
